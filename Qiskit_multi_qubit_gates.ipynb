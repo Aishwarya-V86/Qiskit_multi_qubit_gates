{
  "nbformat": 4,
  "nbformat_minor": 0,
  "metadata": {
    "colab": {
      "provenance": []
    },
    "kernelspec": {
      "name": "python3",
      "display_name": "Python 3"
    },
    "language_info": {
      "name": "python"
    }
  },
  "cells": [
    {
      "cell_type": "code",
      "execution_count": null,
      "metadata": {
        "id": "5WXXBL3E-GgM",
        "colab": {
          "base_uri": "https://localhost:8080/"
        },
        "outputId": "ff95f567-bb42-4c91-e759-b1ad17445c88"
      },
      "outputs": [
        {
          "output_type": "stream",
          "name": "stdout",
          "text": [
            "\u001b[2K   \u001b[90m━━━━━━━━━━━━━━━━━━━━━━━━━━━━━━━━━━━━━━━━\u001b[0m \u001b[32m8.0/8.0 MB\u001b[0m \u001b[31m57.0 MB/s\u001b[0m eta \u001b[36m0:00:00\u001b[0m\n",
            "\u001b[2K   \u001b[90m━━━━━━━━━━━━━━━━━━━━━━━━━━━━━━━━━━━━━━━━\u001b[0m \u001b[32m2.2/2.2 MB\u001b[0m \u001b[31m45.1 MB/s\u001b[0m eta \u001b[36m0:00:00\u001b[0m\n",
            "\u001b[2K   \u001b[90m━━━━━━━━━━━━━━━━━━━━━━━━━━━━━━━━━━━━━━━━\u001b[0m \u001b[32m49.5/49.5 kB\u001b[0m \u001b[31m2.8 MB/s\u001b[0m eta \u001b[36m0:00:00\u001b[0m\n",
            "\u001b[2K   \u001b[90m━━━━━━━━━━━━━━━━━━━━━━━━━━━━━━━━━━━━━━━━\u001b[0m \u001b[32m12.4/12.4 MB\u001b[0m \u001b[31m116.9 MB/s\u001b[0m eta \u001b[36m0:00:00\u001b[0m\n",
            "\u001b[?25h"
          ]
        }
      ],
      "source": [
        "!pip install qiskit --quiet\n",
        "!pip install qiskit-aer --quiet"
      ]
    },
    {
      "cell_type": "code",
      "source": [
        "from qiskit import QuantumCircuit, transpile\n",
        "from qiskit_aer import AerSimulator"
      ],
      "metadata": {
        "id": "EEcQ1tS_plIl"
      },
      "execution_count": null,
      "outputs": []
    },
    {
      "cell_type": "code",
      "source": [
        "sim = AerSimulator()\n",
        "\n",
        "\n",
        "qc = QuantumCircuit(2, 2)\n",
        "\n",
        "qc.h(0)        # Hadamard on qubit 0\n",
        "qc.cx(0, 1)    # CNOT with control 0 and target 1\n",
        "qc.cz(0, 1)    # Controlled-Z\n",
        "qc.swap(0, 1)  # Swap qubit 0 and 1\n",
        "\n",
        "qc.measure_all()\n",
        "\n",
        "print(\"Quantum Circuit:\")\n",
        "print(qc.draw())\n",
        "\n",
        "compiled = transpile(qc, sim)\n",
        "result = sim.run(compiled, shots=1024).result()\n",
        "\n",
        "counts = result.get_counts()\n",
        "print(\"\\nMeasurement Counts:\", counts)"
      ],
      "metadata": {
        "colab": {
          "base_uri": "https://localhost:8080/"
        },
        "id": "ad0-JP0NpwlR",
        "outputId": "73b198a2-78b1-4804-f4e8-539a61186572"
      },
      "execution_count": null,
      "outputs": [
        {
          "output_type": "stream",
          "name": "stdout",
          "text": [
            "Quantum Circuit:\n",
            "        ┌───┐            ░ ┌─┐   \n",
            "   q_0: ┤ H ├──■───■──X──░─┤M├───\n",
            "        └───┘┌─┴─┐ │  │  ░ └╥┘┌─┐\n",
            "   q_1: ─────┤ X ├─■──X──░──╫─┤M├\n",
            "             └───┘       ░  ║ └╥┘\n",
            "   c: 2/════════════════════╬══╬═\n",
            "                            ║  ║ \n",
            "meas: 2/════════════════════╩══╩═\n",
            "                            0  1 \n",
            "\n",
            "Measurement Counts: {'00 00': 518, '11 00': 506}\n"
          ]
        }
      ]
    },
    {
      "cell_type": "code",
      "source": [
        "# Task 1: Control / Target Variation\n",
        "\n",
        "qc1 = QuantumCircuit(2, 2)\n",
        "\n",
        "qc1.h(0)        # Hadamard on qubit 0\n",
        "qc1.cx(1, 0)    # CNOT with control 0 and target 1\n",
        "qc1.cz(1, 0)    # Controlled-Z\n",
        "qc1.swap(0, 1)  # Swap qubit 0 and 1\n",
        "\n",
        "qc1.measure_all()\n",
        "\n",
        "print(\"Quantum Circuit:\")\n",
        "print(qc1.draw())\n",
        "\n",
        "compiled1 = transpile(qc1, sim)\n",
        "result1 = sim.run(compiled1, shots=1024).result()\n",
        "\n",
        "counts1 = result1.get_counts()\n",
        "print(\"\\nMeasurement Counts:\", counts1)"
      ],
      "metadata": {
        "colab": {
          "base_uri": "https://localhost:8080/"
        },
        "id": "3i3ONYZrp-ww",
        "outputId": "4d54ebc0-18ad-494b-9051-4cacceb6eb18"
      },
      "execution_count": null,
      "outputs": [
        {
          "output_type": "stream",
          "name": "stdout",
          "text": [
            "Quantum Circuit:\n",
            "        ┌───┐┌───┐       ░ ┌─┐   \n",
            "   q_0: ┤ H ├┤ X ├─■──X──░─┤M├───\n",
            "        └───┘└─┬─┘ │  │  ░ └╥┘┌─┐\n",
            "   q_1: ───────■───■──X──░──╫─┤M├\n",
            "                         ░  ║ └╥┘\n",
            "   c: 2/════════════════════╬══╬═\n",
            "                            ║  ║ \n",
            "meas: 2/════════════════════╩══╩═\n",
            "                            0  1 \n",
            "\n",
            "Measurement Counts: {'00 00': 507, '10 00': 517}\n"
          ]
        }
      ]
    },
    {
      "cell_type": "code",
      "source": [
        "# Task 2: Removal of one gate\n",
        "qc2 = QuantumCircuit(2, 2)\n",
        "\n",
        "qc2.h(0)        # Hadamard on qubit 0\n",
        "qc2.cx(1, 0)    # CNOT with control 0 and target 1\n",
        "qc2.swap(0, 1)  # Swap qubit 0 and 1\n",
        "\n",
        "qc2.measure_all()\n",
        "\n",
        "print(\"Quantum Circuit:\")\n",
        "print(qc2.draw())\n",
        "\n",
        "compiled2 = transpile(qc2, sim)\n",
        "result2 = sim.run(compiled2, shots=1024).result()\n",
        "\n",
        "counts2 = result2.get_counts()\n",
        "print(\"\\nRemoval of CZ gate\")\n",
        "print(\"Measurement Counts:\", counts2)\n",
        "\n",
        "qc3 = QuantumCircuit(2, 2)\n",
        "\n",
        "qc3.h(0)\n",
        "qc3.cz(1, 0)\n",
        "qc3.swap(0, 1)\n",
        "\n",
        "qc3.measure_all()\n",
        "\n",
        "print(\"Quantum Circuit\")\n",
        "print(qc3.draw())\n",
        "\n",
        "compiled3 = transpile(qc3, sim)\n",
        "result3 = sim.run(compiled3, shots = 1024).result()\n",
        "\n",
        "counts3 = result3.get_counts()\n",
        "print(\"\\nRemoval of CX gate\")\n",
        "print(\"Measurement Counts:\", counts3)\n",
        "\n",
        "qc4 = QuantumCircuit(2, 2)\n",
        "qc4.h(0)\n",
        "qc4.cx(1, 0)\n",
        "qc4.cz(1, 0)\n",
        "\n",
        "qc4.measure_all()\n",
        "\n",
        "print(\"Quantum Circuit\")\n",
        "print(qc4.draw())\n",
        "\n",
        "compiled4 = transpile(qc4, sim)\n",
        "result4 = sim.run(compiled4, shots = 1024).result()\n",
        "\n",
        "counts4 = result4.get_counts()\n",
        "print(\"\\nRemoval of Swap\")\n",
        "print(\"Measurement Counts:\", counts4)"
      ],
      "metadata": {
        "colab": {
          "base_uri": "https://localhost:8080/"
        },
        "id": "i-TFpeVjqYP9",
        "outputId": "08ee2468-642a-40c0-c05e-086cc5d2d24d"
      },
      "execution_count": 7,
      "outputs": [
        {
          "output_type": "stream",
          "name": "stdout",
          "text": [
            "Quantum Circuit:\n",
            "        ┌───┐┌───┐    ░ ┌─┐   \n",
            "   q_0: ┤ H ├┤ X ├─X──░─┤M├───\n",
            "        └───┘└─┬─┘ │  ░ └╥┘┌─┐\n",
            "   q_1: ───────■───X──░──╫─┤M├\n",
            "                      ░  ║ └╥┘\n",
            "   c: 2/═════════════════╬══╬═\n",
            "                         ║  ║ \n",
            "meas: 2/═════════════════╩══╩═\n",
            "                         0  1 \n",
            "\n",
            "Removal of CZ gate\n",
            "Measurement Counts: {'10 00': 520, '00 00': 504}\n",
            "Quantum Circuit\n",
            "        ┌───┐       ░ ┌─┐   \n",
            "   q_0: ┤ H ├─■──X──░─┤M├───\n",
            "        └───┘ │  │  ░ └╥┘┌─┐\n",
            "   q_1: ──────■──X──░──╫─┤M├\n",
            "                    ░  ║ └╥┘\n",
            "   c: 2/═══════════════╬══╬═\n",
            "                       ║  ║ \n",
            "meas: 2/═══════════════╩══╩═\n",
            "                       0  1 \n",
            "\n",
            "Removal of CX gate\n",
            "Measurement Counts: {'10 00': 509, '00 00': 515}\n",
            "Quantum Circuit\n",
            "        ┌───┐┌───┐    ░ ┌─┐   \n",
            "   q_0: ┤ H ├┤ X ├─■──░─┤M├───\n",
            "        └───┘└─┬─┘ │  ░ └╥┘┌─┐\n",
            "   q_1: ───────■───■──░──╫─┤M├\n",
            "                      ░  ║ └╥┘\n",
            "   c: 2/═════════════════╬══╬═\n",
            "                         ║  ║ \n",
            "meas: 2/═════════════════╩══╩═\n",
            "                         0  1 \n",
            "\n",
            "Removal of Swap\n",
            "Measurement Counts: {'01 00': 526, '00 00': 498}\n"
          ]
        }
      ]
    },
    {
      "cell_type": "code",
      "source": [
        "#Third task - Addition of another Hadamard gate\n",
        "\n",
        "qc5 = QuantumCircuit(2, 2)\n",
        "\n",
        "qc5.h(0)\n",
        "qc5.h(1)\n",
        "qc5.cx(1, 0)\n",
        "qc5.cz(1, 0)\n",
        "qc5.swap(0, 1)\n",
        "\n",
        "qc5.measure_all()\n",
        "\n",
        "print(\"Quantum Circuit\")\n",
        "print(qc5.draw())\n",
        "\n",
        "compiled5 = transpile(qc5, sim)\n",
        "result5 = sim.run(compiled5, shots=1024).result()\n",
        "\n",
        "counts = result.get_counts()\n",
        "print(\"\\nOutput with one hadamard gate\")\n",
        "print(\"Measurement Counts:\", counts)\n",
        "\n",
        "counts5 = result5.get_counts()\n",
        "print(\"\\nOutput with two hadamard gates\")\n",
        "print(\"Measurement counts: \", counts5)"
      ],
      "metadata": {
        "id": "i3yepzPUtO1F",
        "colab": {
          "base_uri": "https://localhost:8080/"
        },
        "outputId": "f3ade174-33e3-413f-889e-c726680605c0"
      },
      "execution_count": 11,
      "outputs": [
        {
          "output_type": "stream",
          "name": "stdout",
          "text": [
            "Quantum Circuit\n",
            "        ┌───┐┌───┐       ░ ┌─┐   \n",
            "   q_0: ┤ H ├┤ X ├─■──X──░─┤M├───\n",
            "        ├───┤└─┬─┘ │  │  ░ └╥┘┌─┐\n",
            "   q_1: ┤ H ├──■───■──X──░──╫─┤M├\n",
            "        └───┘            ░  ║ └╥┘\n",
            "   c: 2/════════════════════╬══╬═\n",
            "                            ║  ║ \n",
            "meas: 2/════════════════════╩══╩═\n",
            "                            0  1 \n",
            "\n",
            "Output with one hadamard gate\n",
            "Measurement Counts: {'00 00': 518, '11 00': 506}\n",
            "\n",
            "Output with two hadamard gates\n",
            "Measurement counts:  {'01 00': 263, '00 00': 256, '10 00': 249, '11 00': 256}\n"
          ]
        }
      ]
    }
  ]
}